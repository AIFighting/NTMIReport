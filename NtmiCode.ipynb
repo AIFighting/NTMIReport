{
 "cells": [
  {
   "cell_type": "code",
   "execution_count": null,
   "metadata": {},
   "outputs": [],
   "source": [
    "import numpy as np\n",
    "from sklearn.feature_extraction.text import CountVectorizer\n",
    "from sklearn.pipeline import Pipeline\n",
    "from sklearn.naive_bayes import MultinomialNB\n",
    "from sklearn.metrics import classification_report\n",
    "from sklearn.linear_model import LogisticRegression"
   ]
  },
  {
   "cell_type": "code",
   "execution_count": null,
   "metadata": {},
   "outputs": [],
   "source": [
    "training_x =  open('x_train.txt', 'r', encoding=\"utf-8\")\n",
    "training_y = open('y_train.txt', 'r', encoding=\"utf-8\")\n",
    "test_x =  open('x_test.txt', 'r', encoding=\"utf-8\")\n",
    "test_y = open('y_test.txt', 'r', encoding=\"utf-8\")\n",
    "training_x = training_x.read().splitlines()[1:]\n",
    "training_y = training_y.read().splitlines()[1:]\n",
    "test_x = test_x.read().splitlines()[1:]\n",
    "test_y = test_y.read().splitlines()[1:]\n",
    "\n",
    "training_class = list() # List to store the training sentences and corresponding classifiers.\n",
    "testlist = list() # List to store the test sentences and corresponding classifiers.\n",
    "for x in range(5000):\n",
    "      sentence = training_x[x].strip()\n",
    "      sentence = \"<s>\" + sentence\n",
    "      sentence = sentence + \"</s>\"\n",
    "      training_class.append([sentence, training_y[x]])\n",
    "\n",
    "training_class = np.array(tr_x)\n",
    "\n",
    "for x in range(5000):\n",
    "     sentence = test_x[x]\n",
    "     sentence = \"<s>\" + sentence\n",
    "     sentence = sentence + \"</s>\"\n",
    "     testlist.append([sentence, test_y[x]])\n",
    "testlist = np.array(testlist )\n"
   ]
  },
  {
   "cell_type": "code",
   "execution_count": null,
   "metadata": {
    "scrolled": false
   },
   "outputs": [],
   "source": [
    "cls_nb = Pipeline(\n",
    "    [\n",
    "        ('vect', CountVectorizer(ngram_range=(1,1))),\n",
    "        ('clf', MultinomialNB(alpha=0.5)),                 \n",
    "    ]\n",
    ")\n",
    "\n",
    "cls_nb.fit(tr_x[:, 0], tr_x[:, 1])\n",
    "print(\"NBC {}-way\".format(2))\n",
    "print(classification_report(testlist[:,1], cls_nb.predict(testlist[:, 0])))"
   ]
  },
  {
   "cell_type": "code",
   "execution_count": null,
   "metadata": {},
   "outputs": [],
   "source": [
    "cls_lr = Pipeline(\n",
    "    [\n",
    "        ('vect', CountVectorizer(ngram_range=(1,1))),  # map strings to unigram counts (as in NBC)\n",
    "        ('clf', LogisticRegression(\n",
    "            max_iter=500,  # run stochastic gradient ascent for this many iterations\n",
    "            verbose=2,     # some messages of progress\n",
    "            C=100.,        # controls regularisation\n",
    "            solver='sag')  # choice of solver ('sag' is a stochastic algorithm that is much faster and more memory efficient than the default)\n",
    "        ),\n",
    "    ]\n",
    ")\n",
    "cls_lr.fit(tr_x[:, 0], tr_x[:, 1]) \n",
    "print(classification_report(testlist[:,1], cls_lr.predict(testlist[:, 0]))) "
   ]
  },
  {
   "cell_type": "code",
   "execution_count": null,
   "metadata": {},
   "outputs": [],
   "source": []
  }
 ],
 "metadata": {
  "kernelspec": {
   "display_name": "Python 3",
   "language": "python",
   "name": "python3"
  },
  "language_info": {
   "codemirror_mode": {
    "name": "ipython",
    "version": 3
   },
   "file_extension": ".py",
   "mimetype": "text/x-python",
   "name": "python",
   "nbconvert_exporter": "python",
   "pygments_lexer": "ipython3",
   "version": "3.7.3"
  }
 },
 "nbformat": 4,
 "nbformat_minor": 2
}
